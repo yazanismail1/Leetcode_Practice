{
 "cells": [
  {
   "cell_type": "markdown",
   "metadata": {},
   "source": [
    "## Leet code\n",
    "\n",
    "For today you will be solving some selected challenges on leetcode, please create an account if you don't have then\n",
    "Follow the links below:\n",
    "read them carefully and solve them then copy-paste your solution below in Code Block\n"
   ]
  },
  {
   "cell_type": "markdown",
   "metadata": {},
   "source": [
    "### **Question-01**:\n",
    "-----\n"
   ]
  },
  {
   "cell_type": "markdown",
   "metadata": {},
   "source": [
    "##### [Roman-To-Integer](https://leetcode.com/problems/roman-to-integer/)\n",
    "\n",
    "Solution:\n"
   ]
  },
  {
   "cell_type": "code",
   "execution_count": 21,
   "metadata": {},
   "outputs": [],
   "source": [
    "def romanToInt(s):\n",
    "    dict = {\"I\":1, \"V\":5, \"X\":10, \"L\":50, \"C\":100, \"D\":500, \"M\":1000}\n",
    "    if s in dict:\n",
    "        return(dict[s])\n",
    "    else:\n",
    "        x = []\n",
    "        num = 0\n",
    "        for i in s:\n",
    "            x.append(i)\n",
    "        j = 0\n",
    "        while j < len(x):\n",
    "            try:\n",
    "                if dict[x[j]] >= dict[x[j+1]]:\n",
    "                    num += dict[x[j]]\n",
    "                else:\n",
    "                    num = num + (dict[x[j+1]] - dict[x[j]] )\n",
    "                    j += 1\n",
    "            except IndexError:\n",
    "                if dict[x[j-1]] >= dict[x[j]]:\n",
    "                        num += dict[x[j]]\n",
    "            j += 1\n",
    "\n",
    "        return(num)\n"
   ]
  },
  {
   "cell_type": "markdown",
   "metadata": {},
   "source": [
    "##### testing:"
   ]
  },
  {
   "cell_type": "code",
   "execution_count": 22,
   "metadata": {},
   "outputs": [],
   "source": [
    "\n",
    "assert  58  ==  romanToInt(\"LVIII\")\n",
    "assert 1994 ==  romanToInt(\"MCMXCIV\")\n",
    "assert 3    ==  romanToInt(\"III\")"
   ]
  },
  {
   "cell_type": "markdown",
   "metadata": {},
   "source": [
    "##### Big(O):"
   ]
  },
  {
   "cell_type": "markdown",
   "metadata": {},
   "source": [
    "**Time Complexity**\n",
    "\n",
    "Taking into consideration the worst case senario, the function will skip the if statement and goes to the else, moving forward, the function will loop through the provided string giving us a time complexity of O(n), inside the for loop appends will occur and appends in python has a time complexity of O(1) as it adds to the last, hence, the size of the list does not matter, exiting the for loop and entering the while loop which also gives us a time complexity of O(n) as it depends on the length of x, inside the while loop a bunch of if strings and assignment which overall gives O(1) and will be dismissed along with the other undominant complexities. Furthermore, as the two dominant complixities are O(n) and as both loops depend on the same entry which is the string as x will always have the same length of the string, we can add them to give us O(2n) resulting in a _**Big-O notaion of O(n) for the time complexity**_.\n",
    "\n",
    "**Space Complexity**\n",
    "\n",
    "The function has three variables that store data, a dictionary containing the Roman Letters and this will never change and does not depend on anything which gives a space complexity of O(1), as for the second variable which is a list and it depends on the size of the input hence, it grows linearly with the increase of the input giving a space complexity of O(n), and finally a num variable which will store an int. and it does not depend on the size of the input, giving a space complexity of O(1) Resulting in a _**Big-O notaion of O(n) for the space complexity**_."
   ]
  },
  {
   "cell_type": "markdown",
   "metadata": {},
   "source": [
    "### **Question-02**:\n",
    "--------"
   ]
  },
  {
   "cell_type": "markdown",
   "metadata": {},
   "source": [
    "##### [single-number](https://leetcode.com/problems/single-number/)\n",
    "\n",
    "Solution:\n"
   ]
  },
  {
   "cell_type": "code",
   "execution_count": 7,
   "metadata": {},
   "outputs": [],
   "source": [
    "def singleNumber(nums):\n",
    "        my_dict = {}\n",
    "        for i in nums:\n",
    "            if i in my_dict:\n",
    "                my_dict[i] += 1\n",
    "            else:\n",
    "                my_dict[i] = 1\n",
    "        \n",
    "        for i in my_dict:\n",
    "            if my_dict[i] == 1:\n",
    "                return i"
   ]
  },
  {
   "cell_type": "markdown",
   "metadata": {},
   "source": [
    "##### testing:"
   ]
  },
  {
   "cell_type": "code",
   "execution_count": 9,
   "metadata": {},
   "outputs": [],
   "source": [
    "\n",
    "assert 1 ==  singleNumber([2,2,1])\n",
    "assert 4 ==  singleNumber([4,1,2,1,2])\n",
    "assert 1 ==  singleNumber([1])"
   ]
  },
  {
   "cell_type": "markdown",
   "metadata": {},
   "source": [
    "##### Big(O):"
   ]
  },
  {
   "cell_type": "markdown",
   "metadata": {},
   "source": [
    "**Time Complexity**\n",
    "\n",
    "Taking into consideration the worst case senario, the function has two for loops one is based on the size of the input list and the other one is n/2 + 1, dismissing the constants will be n, where n is the same number of the input size, giving a time complexity of O(2n) Resulting in a _**Big-O notaion of O(n) for the time complexity**_. \n",
    "\n",
    "**Space Complexity**\n",
    "\n",
    "The function has one variable that store data, a dictionary which dependa on the input size which gives a space complexity of O(n). Resulting in a _**Big-O notaion of O(n) for the space complexity**_."
   ]
  },
  {
   "cell_type": "markdown",
   "metadata": {},
   "source": [
    "### **Question-03**:\n",
    "------"
   ]
  },
  {
   "cell_type": "markdown",
   "metadata": {},
   "source": [
    "##### [Move Zeroes](https://leetcode.com/problems/move-zeroes/)\n",
    "\n",
    "Solution:\n"
   ]
  },
  {
   "cell_type": "code",
   "execution_count": 17,
   "metadata": {},
   "outputs": [],
   "source": [
    "def moveZeroes(nums):\n",
    "    for i in nums:\n",
    "        if i == 0:\n",
    "            nums.pop(nums.index(i))\n",
    "            nums.append(0)\n",
    "    return nums"
   ]
  },
  {
   "cell_type": "markdown",
   "metadata": {},
   "source": [
    "##### testing:"
   ]
  },
  {
   "cell_type": "code",
   "execution_count": 18,
   "metadata": {},
   "outputs": [],
   "source": [
    "assert[1,3,12,0,0]==  moveZeroes([0,1,0,3,12])\n",
    "assert [0] ==  moveZeroes([0])\n",
    "assert [3,2,4,0,0,0] ==  moveZeroes([0,3,0,0,2,4])"
   ]
  },
  {
   "cell_type": "markdown",
   "metadata": {},
   "source": [
    "##### Big(O):"
   ]
  },
  {
   "cell_type": "markdown",
   "metadata": {},
   "source": [
    "**Time Complexity**\n",
    "\n",
    "Taking into consideration the worst case senario, the function has one for loops based on the size of the input list nesting inside of it a pop method which has a time complexity of O(n) and an append method which has a time complexity of O(1) resulting in a _**Big-O notaion of O(n^2) for the time complexity**_.\n",
    "\n",
    "**Space Complexity**\n",
    "\n",
    "The functoin only has the counter variable \"i\" which stores only one int and does not depend on the size of the input, resulting in a _**Big-O notaion of O(1) for the space complexity**_.\n"
   ]
  },
  {
   "cell_type": "markdown",
   "metadata": {},
   "source": [
    "### **Question-04**:\n",
    "------"
   ]
  },
  {
   "cell_type": "markdown",
   "metadata": {},
   "source": [
    "##### [longest-common-prefix](https://leetcode.com/problems/longest-common-prefix/)\n",
    "\n",
    "Solution:\n"
   ]
  },
  {
   "cell_type": "code",
   "execution_count": 28,
   "metadata": {},
   "outputs": [],
   "source": [
    "def longestCommonPrefix(strs):\n",
    "    shortest_word = strs[0]\n",
    "    longest_word = strs[0]\n",
    "    longest_common = \"\"\n",
    "    dict = {}\n",
    "\n",
    "    for i in range(len(strs)):\n",
    "        if len(strs[i]) < len(shortest_word):\n",
    "            shortest_word = strs[i]\n",
    "        if len(strs[i]) > len(longest_word):\n",
    "            longest_word = strs[i]\n",
    "\n",
    "    for i in range(len(longest_word)):\n",
    "        dict[i] = {\"letter\":longest_word[i], \"index\":i, \"occur\":0,}\n",
    "\n",
    "    for i in range(len(strs)):\n",
    "        for j in range(len(strs[i])):\n",
    "            if strs[i][j] in dict[j][\"letter\"] and j == dict[j][\"index\"]:\n",
    "                dict[j][\"occur\"] += 1 \n",
    "\n",
    "    x = 0\n",
    "    for value in dict.values():\n",
    "        if value[\"occur\"] == len(strs) and value[\"index\"] == x:\n",
    "            longest_common += value[\"letter\"]\n",
    "            x += 1\n",
    "\n",
    "    return(longest_common)"
   ]
  },
  {
   "cell_type": "markdown",
   "metadata": {},
   "source": [
    "##### testing:"
   ]
  },
  {
   "cell_type": "code",
   "execution_count": 29,
   "metadata": {},
   "outputs": [],
   "source": [
    "assert \"fl\"==  longestCommonPrefix([\"flower\",\"flow\",\"flight\"])\n",
    "assert  \"\" ==  longestCommonPrefix ([\"dog\",\"racecar\",\"car\"])\n",
    "assert \"tra\" ==  longestCommonPrefix([\"transform\",\"transcribe\",\"train\"])"
   ]
  },
  {
   "cell_type": "markdown",
   "metadata": {},
   "source": [
    "##### Big(O):"
   ]
  },
  {
   "cell_type": "markdown",
   "metadata": {},
   "source": [
    "**Time Complexity**\n",
    "\n",
    "Taking into consideration the worst case senario, the function has one for loop nested inside it another loop resulting in a _**Big-O notaion of O(n^2) for the time complexity**_.\n",
    "\n",
    "**Space Complexity**\n",
    "\n",
    "Taking into consideration the worst case senario, the function has a dictionary that depends on the length of the longest user input word resulting in a _**Big-O notaion of O(n) for the space complexity**_."
   ]
  }
 ],
 "metadata": {
  "kernelspec": {
   "display_name": "Python 3.9.5 64-bit ('3.9.5')",
   "language": "python",
   "name": "python3"
  },
  "language_info": {
   "codemirror_mode": {
    "name": "ipython",
    "version": 3
   },
   "file_extension": ".py",
   "mimetype": "text/x-python",
   "name": "python",
   "nbconvert_exporter": "python",
   "pygments_lexer": "ipython3",
   "version": "3.9.5"
  },
  "orig_nbformat": 4,
  "vscode": {
   "interpreter": {
    "hash": "eeb952fbb984995b50268a1ba1b4f416f78c9005d6cdda0eac3723fd4cc5acfd"
   }
  }
 },
 "nbformat": 4,
 "nbformat_minor": 2
}
